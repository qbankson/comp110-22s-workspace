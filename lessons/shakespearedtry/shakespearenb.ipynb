{
 "cells": [
  {
   "cell_type": "markdown",
   "metadata": {},
   "source": [
    "# Quantifying Shakespeare\n",
    "\n",
    "In this notebook we will find the frequencies with which Shakespeare's words used letters. "
   ]
  },
  {
   "cell_type": "code",
   "execution_count": 3,
   "metadata": {},
   "outputs": [
    {
     "name": "stdout",
     "output_type": "stream",
     "text": [
      "238836\n",
      "['if the true concord of well-tuned sounds,', 'by unions married do offend thine ear,', 'by unions married do offend thine ear,', 'they do but sweetly chide thee, who confounds', 'they do but sweetly chide thee, who confounds']\n"
     ]
    }
   ],
   "source": [
    "from io import TextIOWrapper\n",
    "\n",
    "def read_file(filename: str) -> list[str]: \n",
    "    \"\"\"Given the name of a file, return a list of its lines.\"\"\"\n",
    "    lines: list[str] = []\n",
    "    file: TextIOWrapper = open(filename, \"r\", encoding=\"utf8\")\n",
    "    for line in file:\n",
    "        line = line.strip()\n",
    "        line = line.lower()\n",
    "        lines.append(line)\n",
    "        if line!= \"\":\n",
    "            lines.append(line)\n",
    "    return lines\n",
    "\n",
    "\n",
    "shakespeare_lines: list[str] = read_file(\"./shakespeare.txt\")\n",
    "print(len(shakespeare_lines))\n",
    "print(shakespeare_lines[246:251])"
   ]
  },
  {
   "cell_type": "markdown",
   "metadata": {},
   "source": [
    "The next step of our analysis is to count the letters in the lines list one-by-one to find the frequency of use of each letter. "
   ]
  },
  {
   "cell_type": "code",
   "execution_count": 5,
   "metadata": {},
   "outputs": [
    {
     "name": "stdout",
     "output_type": "stream",
     "text": [
      "{'t': 657974, 'h': 473168, 'e': 892294, 's': 497036, 'o': 627780, 'n': 485502, 'b': 123576, 'y': 188346, 'w': 178572, 'i': 506658, 'l': 339314, 'a': 577188, 'm': 222438, 'k': 70724, 'p': 116498, 'r': 474500, 'f': 160666, 'c': 175678, 'u': 257394, 'd': 298254, 'g': 136108, 'v': 74994, 'z': 3252, 'x': 10434, 'q': 7154, 'j': 9504}\n"
     ]
    }
   ],
   "source": [
    "# Goal: Define a function named `tally`\n",
    "# Give the function (as params) a dicitonary refrence (key: str, value:int) and a key \n",
    "# If the key is in the dicitonary, increase value by 1 \n",
    "# Otherwise, set the keys value to 1\n",
    "\n",
    "def tally(counts: dict[str, int], key: str) -> None:\n",
    "    \"\"\"Mutate counts to increment a key by 1 if it exists, or initialize to 1.\"\"\"\n",
    "    if key in counts:\n",
    "        counts[key] += 1\n",
    "    else:\n",
    "        counts[key] = 1\n",
    "\n",
    "\n",
    "def count_letters(lines: list[str]) -> dict[str, int]:\n",
    "    \"\"\"Count frequencies of all letters in a list of strings.\"\"\" \n",
    "    counts: dict[str, int] = {}\n",
    "    # loop through all lines\n",
    "    # for each line loop through all characters\n",
    "    # tally character into the counts dictionary\n",
    "    # Extra is to tally only letters! no numbers or punctuation\n",
    "    for line in lines:\n",
    "        for char in line: \n",
    "            if char.isalpha():\n",
    "                tally(counts, char)\n",
    "    return counts\n",
    "\n",
    "\n",
    "shakespeare_letters: dict[str, int] = count_letters(shakespeare_lines)\n",
    "print(shakespeare_letters)\n"
   ]
  },
  {
   "cell_type": "markdown",
   "metadata": {},
   "source": [
    "Let's create a visualization of this data with a bar chart. "
   ]
  },
  {
   "cell_type": "code",
   "execution_count": 11,
   "metadata": {},
   "outputs": [
    {
     "name": "stdout",
     "output_type": "stream",
     "text": [
      "{'a': 577188, 'b': 123576, 'c': 175678, 'd': 298254, 'e': 892294, 'f': 160666, 'g': 136108, 'h': 473168, 'i': 506658, 'j': 9504, 'k': 70724, 'l': 339314, 'm': 222438, 'n': 485502, 'o': 627780, 'p': 116498, 'q': 7154, 'r': 474500, 's': 497036, 't': 657974, 'u': 257394, 'v': 74994, 'w': 178572, 'x': 10434, 'y': 188346, 'z': 3252}\n"
     ]
    }
   ],
   "source": [
    "items_in_dict: list[tuple[str, int]] = list(shakespeare_letters.items())\n",
    "items_in_dict = sorted(items_in_dict)\n",
    "sorted_letters: dict[str, int] = dict(items_in_dict)\n",
    "print(sorted_letters)"
   ]
  },
  {
   "cell_type": "code",
   "execution_count": 12,
   "metadata": {},
   "outputs": [
    {
     "name": "stdout",
     "output_type": "stream",
     "text": [
      "['a', 'b', 'c', 'd', 'e', 'f', 'g', 'h', 'i', 'j', 'k', 'l', 'm', 'n', 'o', 'p', 'q', 'r', 's', 't', 'u', 'v', 'w', 'x', 'y', 'z']\n",
      "[577188, 123576, 175678, 298254, 892294, 160666, 136108, 473168, 506658, 9504, 70724, 339314, 222438, 485502, 627780, 116498, 7154, 474500, 497036, 657974, 257394, 74994, 178572, 10434, 188346, 3252]\n"
     ]
    },
    {
     "data": {
      "text/plain": [
       "<BarContainer object of 26 artists>"
      ]
     },
     "execution_count": 12,
     "metadata": {},
     "output_type": "execute_result"
    },
    {
     "data": {
      "image/png": "[encoded data removed]",
      "text/plain": [
       "<Figure size 432x288 with 1 Axes>"
      ]
     },
     "metadata": {
      "needs_background": "light"
     },
     "output_type": "display_data"
    }
   ],
   "source": [
    "from matplotlib import pyplot\n",
    "\n",
    "pyplot.title(\"Frequencies of Letters\")\n",
    "pyplot.xlabel(\"Letters\")\n",
    "pyplot.ylabel(\"Frequencies\")\n",
    "labels: list[str] = list(sorted_letters.keys())\n",
    "values: list[int] = list(sorted_letters.values())\n",
    "print(labels)\n",
    "print(values)\n",
    "pyplot.bar(labels, values)"
   ]
  }
 ],
 "metadata": {
  "interpreter": {
   "hash": "e4bf2957536b1a501a5efd70d028ee305c7ffce25731ad0ae7371cabedef8178"
  },
  "kernelspec": {
   "display_name": "Python 3.10.1 64-bit",
   "language": "python",
   "name": "python3"
  },
  "language_info": {
   "codemirror_mode": {
    "name": "ipython",
    "version": 3
   },
   "file_extension": ".py",
   "mimetype": "text/x-python",
   "name": "python",
   "nbconvert_exporter": "python",
   "pygments_lexer": "ipython3",
   "version": "3.10.1"
  },
  "orig_nbformat": 4
 },
 "nbformat": 4,
 "nbformat_minor": 2
}
